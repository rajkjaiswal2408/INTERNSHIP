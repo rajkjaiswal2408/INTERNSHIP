{
 "cells": [
  {
   "cell_type": "code",
   "execution_count": 3,
   "id": "27d9cb29",
   "metadata": {},
   "outputs": [
    {
     "name": "stdout",
     "output_type": "stream",
     "text": [
      "['H', 'e', 's', 'a', 'i', 'd', 'i', 'n', 's', 'o', 'm', 'e', '_', 'l', 'a', 'n', 'g']\n"
     ]
    }
   ],
   "source": [
    "#Write a Python program to check that a string contains only a certain set of characters (in this case a-z, A-Z and 0-9).\n",
    "import re\n",
    "\n",
    "p = re.compile('\\w')\n",
    "print(p.findall(\"He said * in some_lang.\"))\n",
    "\n"
   ]
  },
  {
   "cell_type": "code",
   "execution_count": 10,
   "id": "3fc52545",
   "metadata": {},
   "outputs": [
    {
     "name": "stdout",
     "output_type": "stream",
     "text": [
      "['a', 'ab', 'abb']\n"
     ]
    }
   ],
   "source": [
    "#Create a function in python that matches a string that has an a followed by zero or more b's\n",
    "import re\n",
    "\n",
    "text = ['ac', 'abc', 'a', 'ab', 'abb']\n",
    "pattern = r'^a(b*)$'\n",
    "\n",
    "x = [match.group() for match in [re.match(pattern, item) for item in text] if match]\n",
    "print(x)\n"
   ]
  },
  {
   "cell_type": "code",
   "execution_count": 11,
   "id": "7248c799",
   "metadata": {},
   "outputs": [
    {
     "name": "stdout",
     "output_type": "stream",
     "text": [
      "['ab', 'ab', 'abb']\n"
     ]
    }
   ],
   "source": [
    "#Create a function in python that matches a string that has an a followed by one or more b's\n",
    "import re\n",
    "\n",
    "text = ['ac', 'abc', 'a', 'ab', 'abb']\n",
    "pattern = 'ab+'\n",
    "\n",
    "x = [match.group() for match in [re.match(pattern, item) for item in text] if match]\n",
    "print(x)\n"
   ]
  },
  {
   "cell_type": "code",
   "execution_count": 14,
   "id": "205dfc0e",
   "metadata": {},
   "outputs": [
    {
     "name": "stdout",
     "output_type": "stream",
     "text": [
      "['a', 'ab', 'a', 'ab', 'ab']\n"
     ]
    }
   ],
   "source": [
    "#Create a function in Python and use RegEx that matches a string that has an a followed by zero or one 'b\n",
    "import re\n",
    "\n",
    "text = ['ac', 'abc', 'a', 'ab', 'abb']\n",
    "pattern = r'ab?'\n",
    "\n",
    "x = [match.group() for match in [re.match(pattern, item) for item in text] if match]\n",
    "print(x)\n"
   ]
  },
  {
   "cell_type": "code",
   "execution_count": 15,
   "id": "71c3c2eb",
   "metadata": {},
   "outputs": [
    {
     "name": "stdout",
     "output_type": "stream",
     "text": [
      "['abbb']\n"
     ]
    }
   ],
   "source": [
    "#Write a Python program that matches a string that has an a followed by three 'b'.\n",
    "import re\n",
    "\n",
    "text = ['ac', 'abc', 'a', 'ab', 'abb','abbb','aabbbbbc']\n",
    "pattern = 'ab{3}?'\n",
    "\n",
    "x = [match.group() for match in [re.match(pattern, item) for item in text] if match]\n",
    "print(x)\n"
   ]
  },
  {
   "cell_type": "code",
   "execution_count": 25,
   "id": "acdd34ce",
   "metadata": {},
   "outputs": [
    {
     "name": "stdout",
     "output_type": "stream",
     "text": [
      "['Importance ', 'Of ', 'Regular ', 'Expressions ', 'In ', 'Python']\n"
     ]
    }
   ],
   "source": [
    "#Write a regular expression in Python to split a string into uppercase letters.\n",
    "#Sample text: “ImportanceOfRegularExpressionsInPython”\n",
    "\n",
    "import re\n",
    "\n",
    "text = \"Importance Of Regular Expressions In Python\"\n",
    "pattern = r'(?<=.)(?=[A-Z])'\n",
    "result = re.split(pattern, text)\n",
    "print(result)\n"
   ]
  },
  {
   "cell_type": "code",
   "execution_count": 27,
   "id": "d689f854",
   "metadata": {},
   "outputs": [
    {
     "name": "stdout",
     "output_type": "stream",
     "text": [
      "['abb', 'abbb']\n"
     ]
    }
   ],
   "source": [
    "#Write a Python program that matches a string that has an a followed by two to three 'b'.\n",
    "import re\n",
    "\n",
    "text = ['ac', 'abc', 'a', 'ab', 'abb','aabbbbbc']\n",
    "pattern = r'ab{2,3}'\n",
    "\n",
    "x = [match.group() for item in text if (match := re.search(pattern, item))]\n",
    "print(x)\n"
   ]
  },
  {
   "cell_type": "code",
   "execution_count": 31,
   "id": "bfb9c4dd",
   "metadata": {},
   "outputs": [
    {
     "name": "stdout",
     "output_type": "stream",
     "text": [
      "['aab_cbbbc', 'aab_Abbbc', 'Aaab_abbbc']\n"
     ]
    }
   ],
   "source": [
    "#Write a Python program to find sequences of lowercase letters joined with a underscore\n",
    "import re\n",
    "\n",
    "text = ['ac', 'abc', 'a', 'ab', 'abb', 'aabbbbbc', 'aab_cbbbc', 'aab_Abbbc', 'Aaab_abbbc']\n",
    "pattern = r'^[a-zA-Z]+_[a-zA-Z]+$'\n",
    "\n",
    "x = [match.group() for item in text if (match := re.search(pattern, item))]\n",
    "print(x)\n"
   ]
  },
  {
   "cell_type": "code",
   "execution_count": 9,
   "id": "eda12211",
   "metadata": {},
   "outputs": [
    {
     "name": "stdout",
     "output_type": "stream",
     "text": [
      "['ab', 'abb', 'accddbbjjjb']\n"
     ]
    }
   ],
   "source": [
    "#Write a Python program that matches a string that has an 'a' followed by anything, ending in 'b'.\n",
    "import re\n",
    "\n",
    "text = ['ac', 'abc', 'a', 'ab', 'abb', 'aabbbbbc', 'aab_cbbbc', 'aab_Abbbc', 'Aaab_abbbc','accddbbjjjb','aabAbbbc']\n",
    "pattern = r'a.*?b$'\n",
    "\n",
    "x = [match.group() for item in text if (match := re.search(pattern, item))]\n",
    "print(x)\n"
   ]
  },
  {
   "cell_type": "code",
   "execution_count": 1,
   "id": "d4bcb0ba",
   "metadata": {},
   "outputs": [
    {
     "name": "stdout",
     "output_type": "stream",
     "text": [
      "['The']\n"
     ]
    }
   ],
   "source": [
    "#Write a Python program that matches a word at the beginning of a string\n",
    "import re\n",
    "\n",
    "text = \"The quick brown fox jumps over the lazy dog.\"\n",
    "pattern = r\"^\\w+\"\n",
    "x = [match.group() for match in re.finditer(pattern, text)]\n",
    "print(x)\n",
    "\n"
   ]
  },
  {
   "cell_type": "code",
   "execution_count": 5,
   "id": "d11f845a",
   "metadata": {},
   "outputs": [
    {
     "name": "stdout",
     "output_type": "stream",
     "text": [
      "['New_String_123']\n"
     ]
    }
   ],
   "source": [
    "#Write a Python program to match a string that contains only upper and lowercase letters, numbers, and underscores.\n",
    "import re\n",
    "\n",
    "text = ['The quick brown fox jumps over the lazy dog', 'New_String_123']\n",
    "pattern = '^[a-zA-Z0-9_]+$'\n",
    "x = [match.group() for item in text for match in re.finditer(pattern, item)]\n",
    "print(x)\n"
   ]
  },
  {
   "cell_type": "code",
   "execution_count": 8,
   "id": "fb16d5a1",
   "metadata": {},
   "outputs": [
    {
     "name": "stdout",
     "output_type": "stream",
     "text": [
      "['52345861', '5764537', '534']\n"
     ]
    }
   ],
   "source": [
    "#Write a Python program where a string will start with a specific number\n",
    "import re\n",
    "\n",
    "text = ['52345861', '62345861', '5764537', '9737646', '534']\n",
    "pattern = re.compile(r\"^5\")\n",
    "x = [item for item in text if re.match(pattern, item)]\n",
    "print(x)\n"
   ]
  },
  {
   "cell_type": "code",
   "execution_count": 11,
   "id": "060e0117",
   "metadata": {},
   "outputs": [
    {
     "name": "stdout",
     "output_type": "stream",
     "text": [
      "216.8.94.196\n"
     ]
    }
   ],
   "source": [
    "#- Write a Python program to remove leading zeros from an IP address\n",
    "import re\n",
    "\n",
    "ip = \"216.08.094.196\"\n",
    "string = re.sub(r'\\b0+(\\d)', r'\\1', ip)\n",
    "print(string)\n"
   ]
  },
  {
   "cell_type": "code",
   "execution_count": 2,
   "id": "fee2cd0a",
   "metadata": {},
   "outputs": [
    {
     "name": "stdout",
     "output_type": "stream",
     "text": [
      "August 15th 1947\n"
     ]
    }
   ],
   "source": [
    "#Write a regular expression in python to match a date string in the form of Month name followed by day number and year stored in a text file.\n",
    "import re\n",
    "\n",
    "text = 'On August 15th 1947 that India was declared independent from British colonialism, and the reins of control were handed over to the leaders of the Country.'\n",
    "\n",
    "pattern = r\"(?:January|February|March|April|May|June|July|August|September|October|November|December) \\d{1,2}(?:st|nd|rd|th)? \\d{4}\"\n",
    "\n",
    "match = re.search(pattern, text)\n",
    "\n",
    "\n",
    "print(match.group())\n"
   ]
  },
  {
   "cell_type": "code",
   "execution_count": 4,
   "id": "ff0cb215",
   "metadata": {},
   "outputs": [
    {
     "name": "stdout",
     "output_type": "stream",
     "text": [
      "fox\n",
      "dog\n"
     ]
    }
   ],
   "source": [
    "#- Write a Python program to search some literals strings in a string. Go to the editor\n",
    "#Sample text : 'The quick brown fox jumps over the lazy dog.'\n",
    "#Searched words : 'fox', 'dog', 'horse'\n",
    "\n",
    "import re\n",
    "\n",
    "text = 'The quick brown fox jumps over the lazy dog.'\n",
    "searched_words = ['fox', 'dog', 'horse']\n",
    "\n",
    "for word in searched_words:\n",
    "    result = re.search(word, text)\n",
    "    if result:\n",
    "            print(result.group())\n"
   ]
  },
  {
   "cell_type": "code",
   "execution_count": 32,
   "id": "a08195cf",
   "metadata": {},
   "outputs": [
    {
     "name": "stdout",
     "output_type": "stream",
     "text": [
      "'fox' in the text at index 16 to 19.\n"
     ]
    }
   ],
   "source": [
    "#Write a Python program to search a literals string in a string and also find the location within the original string where the pattern occurs\n",
    "#Sample text : 'The quick brown fox jumps over the lazy dog.'\n",
    "#Searched words : 'fox'\n",
    "\n",
    "import re\n",
    "\n",
    "text = 'The quick brown fox jumps over the lazy dog.'\n",
    "searched_word = 'fox'\n",
    "\n",
    "match = re.search(searched_word, text)\n",
    "start_index = match.start() \n",
    "end_index = match.end() \n",
    "print(f\"'{searched_word}' in the text at index {start_index} to {end_index}.\")"
   ]
  },
  {
   "cell_type": "code",
   "execution_count": 6,
   "id": "fdff7429",
   "metadata": {},
   "outputs": [
    {
     "name": "stdout",
     "output_type": "stream",
     "text": [
      "exercises\n",
      "exercises\n",
      "exercises\n"
     ]
    }
   ],
   "source": [
    "#- Write a Python program to find the substrings within a string.\n",
    "#Sample text : 'Python exercises, PHP exercises, C# exercises'\n",
    "#Pattern : 'exercises'.\n",
    "\n",
    "import re\n",
    "\n",
    "text = 'Python exercises, PHP exercises, C# exercises'\n",
    "pattern = 'exercises'\n",
    "\n",
    "matches = re.findall(pattern, text)\n",
    "for match in matches:\n",
    "    print(match)\n",
    "\n"
   ]
  },
  {
   "cell_type": "code",
   "execution_count": 37,
   "id": "67520560",
   "metadata": {},
   "outputs": [
    {
     "name": "stdout",
     "output_type": "stream",
     "text": [
      "Found 'exercises' at positions 7 to 15\n",
      "Found 'exercises' at positions 22 to 30\n",
      "Found 'exercises' at positions 36 to 44\n"
     ]
    }
   ],
   "source": [
    "#Write a Python program to find the occurrence and position of the substrings within a string.\n",
    "\n",
    "import re\n",
    "\n",
    "text = 'Python exercises, PHP exercises, C# exercises'\n",
    "pattern = 'exercises'\n",
    "\n",
    "matches = re.finditer(pattern, text)\n",
    "\n",
    "for match in matches:\n",
    "    occurrence = match.group()\n",
    "    start_position = match.start()\n",
    "    end_position = match.end() - 1\n",
    "    print(f\"Found '{occurrence}' at positions {start_position} to {end_position}\")\n"
   ]
  },
  {
   "cell_type": "code",
   "execution_count": 39,
   "id": "1e1bf789",
   "metadata": {},
   "outputs": [
    {
     "name": "stdout",
     "output_type": "stream",
     "text": [
      "13-07-2023\n"
     ]
    }
   ],
   "source": [
    "#Write a Python program to convert a date of yyyy-mm-dd format to dd-mm-yyyy format\n",
    "from datetime import datetime\n",
    "\n",
    "date_string = \"2023-07-13\"\n",
    "\n",
    "date = datetime.strptime(date_string, \"%Y-%m-%d\")\n",
    "\n",
    "\n",
    "formatted_date = date.strftime(\"%d-%m-%Y\")\n",
    "\n",
    "print(formatted_date)\n"
   ]
  },
  {
   "cell_type": "code",
   "execution_count": 43,
   "id": "c9c2d506",
   "metadata": {},
   "outputs": [
    {
     "name": "stdout",
     "output_type": "stream",
     "text": [
      "['and', 'are', 'elephants', 'and', 'ants', 'are', 'animals', 'are']\n"
     ]
    }
   ],
   "source": [
    "#Write a Python program to find all words starting with 'a' or 'e' in a given string\n",
    "\n",
    "import re\n",
    "\n",
    "text = \"Apples and oranges are fruits, while elephants and ants are animals. Eggs are a common breakfast food.\"\n",
    "\n",
    "word_list = re.findall(r'\\b[ae]\\w+', text)\n",
    "\n",
    "print(word_list)\n"
   ]
  },
  {
   "cell_type": "code",
   "execution_count": 49,
   "id": "0c4a2f61",
   "metadata": {},
   "outputs": [
    {
     "name": "stdout",
     "output_type": "stream",
     "text": [
      "50\n",
      "Index position: 62\n"
     ]
    }
   ],
   "source": [
    "#Write a Python program to separate and print the numbers and their position of a given string.\n",
    "import re\n",
    "\n",
    "text = \"The following example creates an ArrayList with a capacity of 50 elements. Four elements are then added to the ArrayList and the ArrayList is trimmed accordingly.\"\n",
    "\n",
    "for m in re.finditer(\"\\d+\", text):\n",
    "    print(m.group(0))\n",
    "    print(\"Index position:\", m.start())\n",
    "\t"
   ]
  },
  {
   "cell_type": "code",
   "execution_count": 2,
   "id": "2686dae0",
   "metadata": {},
   "outputs": [
    {
     "name": "stdout",
     "output_type": "stream",
     "text": [
      "Maximum numeric value: 65467\n"
     ]
    }
   ],
   "source": [
    "#- Write a regular expression in python program to extract maximum numeric value from a string\n",
    " \n",
    "import re\n",
    "\n",
    "string = '100klh564abc365bg65467hdfjnwnk64545bnhkbsdv74r76hkdbf7443'\n",
    "\n",
    "numeric_values = [int(num) for num in re.findall(r'\\d+', string)]\n",
    "max_value = max(numeric_values) \n",
    "\n",
    "print(\"Maximum numeric value:\", max_value)\n"
   ]
  },
  {
   "cell_type": "code",
   "execution_count": 9,
   "id": "daffe5bc",
   "metadata": {},
   "outputs": [
    {
     "name": "stdout",
     "output_type": "stream",
     "text": [
      "['This Isa Regex Example', 'ILove Data Science', 'Python Practices']\n"
     ]
    }
   ],
   "source": [
    "#Write a Regex in Python to put spaces between words starting with capital letters\n",
    "\n",
    "import re\n",
    "\n",
    "texts = ['ThisIsaRegexExample', 'ILoveDataScience', 'PythonPractices']\n",
    "pattern = r'(?<=[a-z])(?=[A-Z])'\n",
    "\n",
    "result = [re.sub(pattern, ' ', text) for text in texts]\n",
    "print(result)\n",
    "\n"
   ]
  },
  {
   "cell_type": "code",
   "execution_count": 12,
   "id": "2d311918",
   "metadata": {},
   "outputs": [
    {
     "name": "stdout",
     "output_type": "stream",
     "text": [
      "['Apples', 'Elephants', 'Ants', 'Eggs']\n"
     ]
    }
   ],
   "source": [
    "#Python regex to find sequences of one upper case letter followed by lower case letters\n",
    "\n",
    "import re\n",
    "\n",
    "text = \"Apples and oranges are fruits, while Elephants and Ants are animals. Eggs are a common breakfast food.\"\n",
    "\n",
    "word_list = re.findall(r'\\b[A-Z][a-z]+\\b', text)\n",
    "\n",
    "print(word_list)\n",
    "\n"
   ]
  },
  {
   "cell_type": "code",
   "execution_count": 10,
   "id": "0b3c5c27",
   "metadata": {},
   "outputs": [
    {
     "name": "stdout",
     "output_type": "stream",
     "text": [
      "hello world\n"
     ]
    }
   ],
   "source": [
    "#Write a Python program to remove duplicate words from Sentence using Regular Expression\n",
    "\n",
    "import re\n",
    "\n",
    "text = \"Hello hello World world\"\n",
    "words = re.findall(r'\\b\\w+\\b', text)\n",
    "unique_words = set([word.lower() for word in words])\n",
    "result = ' '.join(unique_words)\n",
    "\n",
    "print(result)\n"
   ]
  },
  {
   "cell_type": "code",
   "execution_count": 54,
   "id": "1366bca2",
   "metadata": {},
   "outputs": [
    {
     "name": "stdout",
     "output_type": "stream",
     "text": [
      "Hello123\n",
      "12334\n",
      "Hello123\n",
      "Hello\n",
      "12334\n"
     ]
    }
   ],
   "source": [
    "#Write a python program using RegEx to accept string ending with alphanumeric character\n",
    "\n",
    "\n",
    "import re\n",
    "\n",
    "text_list = ['Hello123', 'This is a test string! Hello!@# 12334', 'Hello123', 'Hello!@#', 'Hello', '12334']\n",
    "\n",
    "pattern = r'\\w+$'\n",
    "\n",
    "for text in text_list:\n",
    "    match = re.search(pattern, text)\n",
    "    if match:\n",
    "        print(match.group())\n",
    "\n"
   ]
  },
  {
   "cell_type": "code",
   "execution_count": 38,
   "id": "80d76166",
   "metadata": {},
   "outputs": [
    {
     "name": "stdout",
     "output_type": "stream",
     "text": [
      "['#Doltiwal', '#xyzabc', '#Demonetization']\n"
     ]
    }
   ],
   "source": [
    "#Write a python program using RegEx to extract the hashtags\n",
    "import re\n",
    "\n",
    "def extract_hashtags(text):\n",
    "    hashtags = re.findall(r'#\\w+', text)\n",
    "    return hashtags\n",
    "\n",
    "text = \"RT @kapil_kausik: #Doltiwal I mean #xyzabc is 'hurt' by #Demonetization as the same has rendered USELESS <ed><U+00A0><U+00BD><ed><U+00B1><U+0089> 'acquired funds' No wo\"\n",
    "\n",
    "hashtags = extract_hashtags(text)\n",
    "print(hashtags)\n",
    "\n"
   ]
  },
  {
   "cell_type": "code",
   "execution_count": 45,
   "id": "7c0a3c26",
   "metadata": {},
   "outputs": [
    {
     "name": "stdout",
     "output_type": "stream",
     "text": [
      "@Jags123456 Bharat band on 28??<ed><ed>Those who  are protesting #demonetization  are all different party leaders\n"
     ]
    }
   ],
   "source": [
    "#Write a python program using RegEx to remove <U+..> like symbols\n",
    "\n",
    "import re\n",
    "\n",
    "text = \"@Jags123456 Bharat band on 28??<ed><U+00A0><U+00BD><ed><U+00B8><U+0082>Those who  are protesting #demonetization  are all different party leaders\"\n",
    "\n",
    "\n",
    "result = re.sub(r'<U\\+[0-9A-Fa-f]{2,4}>', '', text)\n",
    "\n",
    "print(result)\n"
   ]
  },
  {
   "cell_type": "code",
   "execution_count": 46,
   "id": "3b4ef04e",
   "metadata": {},
   "outputs": [
    {
     "name": "stdout",
     "output_type": "stream",
     "text": [
      "['12-09-1992', '15-12-1999']\n"
     ]
    }
   ],
   "source": [
    "#Write a python program to extract dates from the text stored in the text file.\n",
    "\n",
    "import re\n",
    "\n",
    "\n",
    "file = open(\"Extract_date.txt\", \"r\")\n",
    "text = file.read()\n",
    "\n",
    "matches = re.findall(r'(\\d{2}-\\d{2}-\\d{4})', text)\n",
    "\n",
    "print(matches)\n"
   ]
  },
  {
   "cell_type": "code",
   "execution_count": 44,
   "id": "15727fbd",
   "metadata": {},
   "outputs": [
    {
     "name": "stdout",
     "output_type": "stream",
     "text": [
      "Python:Exercises::PHP:exercises:\n"
     ]
    }
   ],
   "source": [
    "#Write a Python program to replace all occurrences of a space, comma, or dot with a colon\n",
    "import re\n",
    "text = 'Python Exercises, PHP exercises.'\n",
    "result =re.sub(\"[ ,.]\", \":\", text)\n",
    "print(result)\n"
   ]
  },
  {
   "cell_type": "code",
   "execution_count": null,
   "id": "f1dc3b5a",
   "metadata": {},
   "outputs": [],
   "source": []
  }
 ],
 "metadata": {
  "kernelspec": {
   "display_name": "Python 3 (ipykernel)",
   "language": "python",
   "name": "python3"
  },
  "language_info": {
   "codemirror_mode": {
    "name": "ipython",
    "version": 3
   },
   "file_extension": ".py",
   "mimetype": "text/x-python",
   "name": "python",
   "nbconvert_exporter": "python",
   "pygments_lexer": "ipython3",
   "version": "3.9.13"
  }
 },
 "nbformat": 4,
 "nbformat_minor": 5
}
